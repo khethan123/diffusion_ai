{
 "cells": [
  {
   "cell_type": "markdown",
   "id": "4389c00f-c8cc-4f38-bf2b-613478f4b701",
   "metadata": {},
   "source": [
    "<font face='monospace'>\n",
    "<h2><b>Infernece Model</b></h2>\n",
    "\n",
    "We use this model to check whether the ouput images of diffuion model have data distribution similar to that of the original dataset "
   ]
  },
  {
   "cell_type": "code",
   "execution_count": null,
   "id": "e5c68735-592e-47f0-a7be-e325b11fc218",
   "metadata": {},
   "outputs": [],
   "source": [
    "%pip install -qU fastai fastcore accelerate einops datasets torcheval matplotlib scipy numpy torch"
   ]
  },
  {
   "cell_type": "code",
   "execution_count": null,
   "id": "dd7877a2-d570-4dfc-8d4e-2fad549c618d",
   "metadata": {},
   "outputs": [],
   "source": [
    "import torch\n",
    "import logging\n",
    "import fastcore.all as fc\n",
    "import torch.nn.functional as F\n",
    "import torchvision.transforms.functional as TF\n",
    "\n",
    "from torch import nn, optim\n",
    "from pathlib import Path\n",
    "from diffusion_ai import *\n",
    "from functools import partial\n",
    "from datasets import load_dataset\n",
    "from torchvision import transforms\n",
    "from torch.optim import lr_scheduler\n",
    "from torcheval.metrics import MulticlassAccuracy"
   ]
  },
  {
   "cell_type": "code",
   "execution_count": null,
   "id": "a74f5c3b-05f9-453f-92e7-1b6efa46ad73",
   "metadata": {},
   "outputs": [],
   "source": [
    "# Disable warnings and set random seeds for reproducibility\n",
    "logging.disable(logging.WARNING)\n",
    "torch.set_printoptions(precision=2, linewidth=140, sci_mode=False)\n",
    "torch.manual_seed(1)\n",
    "set_seed(42)"
   ]
  },
  {
   "cell_type": "code",
   "execution_count": null,
   "id": "d55cfec4-0cf5-42dc-8059-d1f541a8fff0",
   "metadata": {},
   "outputs": [],
   "source": [
    "# Create model path directory if it doesn't exist\n",
    "model_path = Path('models')\n",
    "model_path.mkdir(exist_ok=True)"
   ]
  },
  {
   "cell_type": "code",
   "execution_count": null,
   "id": "ece56e55-8a75-4724-b4b4-a0736ac360ce",
   "metadata": {},
   "outputs": [],
   "source": [
    "# Define constants\n",
    "IMAGE_KEY, LABEL_KEY = 'image', 'label'\n",
    "DATASET_NAME = \"fashion_mnist\"\n",
    "BATCH_SIZE = 1024\n",
    "X_MEAN, X_STD = 0.28, 0.35"
   ]
  },
  {
   "cell_type": "code",
   "execution_count": null,
   "id": "205f7c36-6063-45fa-beae-ce3712e55a6d",
   "metadata": {},
   "outputs": [],
   "source": [
    "@inplace\n",
    "def transformi(batch):\n",
    "    \"\"\"\n",
    "    Normalize the images in the batch.\n",
    "    \n",
    "    Args:\n",
    "        batch (dict): Batch of data containing images and labels.\n",
    "    \"\"\"\n",
    "    batch[IMAGE_KEY] = [(TF.to_tensor(img) - X_MEAN)/X_STD for img in batch[IMAGE_KEY]]\n"
   ]
  },
  {
   "cell_type": "code",
   "execution_count": null,
   "id": "af885154-d5d1-4a28-b53a-5c6eac776d7c",
   "metadata": {},
   "outputs": [],
   "source": [
    "# Load and transform dataset\n",
    "dataset = load_dataset(DATASET_NAME, trust_remote_code=True)\n",
    "transformed_dataset = dataset.with_transform(transformi)\n",
    "data_loaders = DataLoaders.from_dd(transformed_dataset, BATCH_SIZE, num_workers=2)"
   ]
  },
  {
   "cell_type": "code",
   "execution_count": null,
   "id": "2fa1ad9f-abec-4f2c-81ee-b72bff4fc67d",
   "metadata": {},
   "outputs": [],
   "source": [
    "def create_model(activation_fn=nn.ReLU, filters=(16, 32, 64, 128, 256, 512), norm_layer=nn.BatchNorm2d):\n",
    "    \"\"\"\n",
    "    Create a CNN model with residual blocks.\n",
    "\n",
    "    Args:\n",
    "        activation_fn (callable): Activation function to use in the model.\n",
    "        filters (tuple): Number of filters for each layer.\n",
    "        norm_layer (callable): Normalization layer to use.\n",
    "\n",
    "    Returns:\n",
    "        nn.Sequential: Constructed model.\n",
    "    \"\"\"\n",
    "    layers = [ResBlock(1, 16, ks=5, stride=1, act=activation_fn, norm=norm_layer)]\n",
    "    layers += [ResBlock(filters[i], filters[i + 1], act=activation_fn, norm=norm_layer, stride=2) for i in range(len(filters) - 1)]\n",
    "    layers += [nn.Flatten(), nn.Linear(filters[-1], 10, bias=False), nn.BatchNorm1d(10)]\n",
    "    return nn.Sequential(*layers)"
   ]
  },
  {
   "cell_type": "code",
   "execution_count": null,
   "id": "e9a4711c-6e95-46c5-a6c0-cf82dfafad5e",
   "metadata": {},
   "outputs": [],
   "source": [
    "# Initialize metrics, callbacks, and other configurations\n",
    "metrics_cb = MetricsCB(accuracy=MulticlassAccuracy())\n",
    "activation_stats_cb = ActivationStats(fc.risinstance(GeneralRelu))\n",
    "callbacks = [DeviceCB(), metrics_cb, ProgressCB(plot=True), activation_stats_cb]\n",
    "activation_general_relu = partial(GeneralRelu, leak=0.1, sub=0.4)\n",
    "initialize_weights = partial(init_weights, leaky=0.1)"
   ]
  },
  {
   "cell_type": "code",
   "execution_count": null,
   "id": "afa06503-466c-42b1-812f-912ec74e5bee",
   "metadata": {},
   "outputs": [],
   "source": [
    "def transform_batch_elements(batch, transform_x=fc.noop, transform_y=fc.noop):\n",
    "    \"\"\"\n",
    "    Apply transformations to the elements of a batch.\n",
    "\n",
    "    Args:\n",
    "        batch (tuple): Batch of data (inputs, targets).\n",
    "        transform_x (callable): Transformation function for inputs.\n",
    "        transform_y (callable): Transformation function for targets.\n",
    "\n",
    "    Returns:\n",
    "        tuple: Transformed inputs and targets.\n",
    "    \"\"\"\n",
    "    return transform_x(batch[0]), transform_y(batch[1])\n"
   ]
  },
  {
   "cell_type": "code",
   "execution_count": null,
   "id": "f73d8a38-7ae8-496b-8dde-dd1d0adf67cc",
   "metadata": {},
   "outputs": [],
   "source": [
    "# Define data augmentations\n",
    "data_augmentations = nn.Sequential(\n",
    "    transforms.RandomCrop(28, padding=1),\n",
    "    transforms.RandomHorizontalFlip(),\n",
    "    RandCopy()  # or use RandErase()\n",
    ")\n",
    "augmentation_cb = BatchTransformCB(partial(transform_batch_elements, transform_x=data_augmentations), on_val=False)"
   ]
  },
  {
   "cell_type": "code",
   "execution_count": null,
   "id": "ff62ecd3-dadc-46d7-81a0-272daa1fbf9d",
   "metadata": {},
   "outputs": [],
   "source": [
    "# Training configurations\n",
    "EPOCHS = 1\n",
    "LEARNING_RATE = 1e-2\n",
    "TOTAL_STEPS = EPOCHS * len(data_loaders.train)\n",
    "scheduler = partial(lr_scheduler.OneCycleLR, max_lr=LEARNING_RATE, total_steps=TOTAL_STEPS)\n",
    "extra_callbacks = [BatchSchedCB(scheduler), augmentation_cb]\n",
    "\n",
    "# Create and initialize the model\n",
    "model = create_model(activation_fn=activation_general_relu, norm_layer=nn.BatchNorm2d).apply(initialize_weights)\n",
    "learner = TrainLearner(\n",
    "    model, data_loaders, F.cross_entropy, lr=LEARNING_RATE,\n",
    "    cbs=callbacks + extra_callbacks, opt_func=optim.AdamW\n",
    ")"
   ]
  },
  {
   "cell_type": "code",
   "execution_count": null,
   "id": "64f4a589-30d0-4094-8ae5-e8e3d457e10e",
   "metadata": {},
   "outputs": [],
   "source": [
    "# Training\n",
    "learner.fit(EPOCHS)"
   ]
  },
  {
   "cell_type": "code",
   "execution_count": null,
   "id": "813583f7-a11a-433a-b762-a64a973b9a0c",
   "metadata": {},
   "outputs": [],
   "source": [
    "torch.save(learner.model, model_path/'inference.pkl')"
   ]
  },
  {
   "cell_type": "code",
   "execution_count": null,
   "id": "a2d620b5-7a87-4656-a7fd-070b17a04b7d",
   "metadata": {},
   "outputs": [],
   "source": [
    "# To free RAM, space\n",
    "import gc\n",
    "from IPython.display import clear_output\n",
    "\n",
    "gc.collect()\n",
    "clear_output(wait=True)"
   ]
  },
  {
   "cell_type": "code",
   "execution_count": null,
   "id": "0ce27769-574d-4af2-b3d6-1e42620b44b4",
   "metadata": {},
   "outputs": [],
   "source": [
    "%reset -f"
   ]
  }
 ],
 "metadata": {
  "kernelspec": {
   "display_name": "Python 3",
   "language": "python",
   "name": "python3"
  },
  "language_info": {
   "codemirror_mode": {
    "name": "ipython",
    "version": 3
   },
   "file_extension": ".py",
   "mimetype": "text/x-python",
   "name": "python",
   "nbconvert_exporter": "python",
   "pygments_lexer": "ipython3",
   "version": "3.10.10"
  }
 },
 "nbformat": 4,
 "nbformat_minor": 5
}
